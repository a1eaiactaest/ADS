{
 "cells": [
  {
   "cell_type": "code",
   "execution_count": 1,
   "id": "4071716a",
   "metadata": {},
   "outputs": [
    {
     "data": {
      "text/plain": [
       "['/Users/prybiec/fun/ADS',\n",
       " '/Users/prybiec/fun/ADS/examples',\n",
       " '/opt/homebrew/Cellar/python@3.9/3.9.13_1/Frameworks/Python.framework/Versions/3.9/lib/python39.zip',\n",
       " '/opt/homebrew/Cellar/python@3.9/3.9.13_1/Frameworks/Python.framework/Versions/3.9/lib/python3.9',\n",
       " '/opt/homebrew/Cellar/python@3.9/3.9.13_1/Frameworks/Python.framework/Versions/3.9/lib/python3.9/lib-dynload',\n",
       " '',\n",
       " '/opt/homebrew/lib/python3.9/site-packages',\n",
       " '/Users/prybiec/fun/tinygrad',\n",
       " '/opt/homebrew/lib/python3.9/site-packages/IPython/extensions',\n",
       " '/Users/prybiec/.ipython']"
      ]
     },
     "execution_count": 1,
     "metadata": {},
     "output_type": "execute_result"
    }
   ],
   "source": [
    "import os\n",
    "import sys\n",
    "\n",
    "ads_path = '/'.join(os.getcwd().split('/')[:-1])\n",
    "sys.path.insert(0, ads_path)\n",
    "sys.path"
   ]
  },
  {
   "cell_type": "code",
   "execution_count": 3,
   "id": "2d169b37",
   "metadata": {},
   "outputs": [],
   "source": [
    "from ads.trees import BinaryTree"
   ]
  },
  {
   "cell_type": "code",
   "execution_count": 4,
   "id": "74fda12d",
   "metadata": {},
   "outputs": [],
   "source": [
    "tree = BinaryTree(10)\n",
    "tree.insert(11)\n",
    "tree.insert(9)"
   ]
  },
  {
   "cell_type": "code",
   "execution_count": 5,
   "id": "2d5f2409",
   "metadata": {},
   "outputs": [
    {
     "data": {
      "text/plain": [
       "BinaryTree(data=10, right=BinaryTree(data=11, right=None, left=None), left=BinaryTree(data=9, right=None, left=None))"
      ]
     },
     "execution_count": 5,
     "metadata": {},
     "output_type": "execute_result"
    }
   ],
   "source": [
    "tree"
   ]
  },
  {
   "cell_type": "code",
   "execution_count": 6,
   "id": "a12d21fb",
   "metadata": {},
   "outputs": [
    {
     "name": "stdout",
     "output_type": "stream",
     "text": [
      "True\n",
      "True\n",
      "True\n"
     ]
    }
   ],
   "source": [
    "print(isinstance(tree, BinaryTree))\n",
    "print(isinstance(tree.data, int))\n",
    "print(isinstance(tree.left, BinaryTree))"
   ]
  },
  {
   "cell_type": "code",
   "execution_count": 7,
   "id": "9c02a289",
   "metadata": {},
   "outputs": [
    {
     "data": {
      "text/plain": [
       "ads.trees.BinaryTree"
      ]
     },
     "execution_count": 7,
     "metadata": {},
     "output_type": "execute_result"
    }
   ],
   "source": [
    "type(tree)"
   ]
  },
  {
   "cell_type": "code",
   "execution_count": 8,
   "id": "ecb684e8",
   "metadata": {},
   "outputs": [],
   "source": [
    "import networkx as nx\n",
    "from networkx.drawing.nx_pydot import graphviz_layout\n",
    "import pydot\n",
    "import matplotlib.pyplot as plt"
   ]
  },
  {
   "cell_type": "code",
   "execution_count": 9,
   "id": "1df01b67",
   "metadata": {},
   "outputs": [],
   "source": [
    "#T = nx.balanced_tree(2,1)\n",
    "T = nx.Graph()\n",
    "T.add_node(1)\n",
    "T.add_node(2)\n",
    "T.add_edge(*(1,2))"
   ]
  },
  {
   "cell_type": "code",
   "execution_count": 10,
   "id": "73ebadf0",
   "metadata": {},
   "outputs": [
    {
     "data": {
      "image/png": "[encoded data removed]",
      "text/plain": [
       "<Figure size 432x288 with 1 Axes>"
      ]
     },
     "metadata": {},
     "output_type": "display_data"
    }
   ],
   "source": [
    "pos = graphviz_layout(T, prog=\"dot\")\n",
    "nx.draw(T,pos)\n",
    "plt.show()"
   ]
  },
  {
   "cell_type": "code",
   "execution_count": 11,
   "id": "662695a5",
   "metadata": {},
   "outputs": [
    {
     "name": "stdout",
     "output_type": "stream",
     "text": [
      "      ┌─-(14)\n",
      "  ┌─-(13)\n",
      "-(12)\n",
      "  └─-(11)\n"
     ]
    }
   ],
   "source": [
    "bintree = BinaryTree(12)\n",
    "bintree.insert(11)\n",
    "bintree.insert(13)\n",
    "bintree.insert(14)\n",
    "bintree.pprint()"
   ]
  },
  {
   "cell_type": "code",
   "execution_count": 21,
   "id": "792e981a",
   "metadata": {},
   "outputs": [
    {
     "data": {
      "text/plain": [
       "<networkx.classes.digraph.DiGraph at 0x1113f8d60>"
      ]
     },
     "execution_count": 21,
     "metadata": {},
     "output_type": "execute_result"
    }
   ],
   "source": [
    "bintree.graph()"
   ]
  },
  {
   "cell_type": "code",
   "execution_count": 20,
   "id": "631c2dec",
   "metadata": {},
   "outputs": [
    {
     "name": "stdout",
     "output_type": "stream",
     "text": [
      "{12: (63.0, 162.0), 11: (27.0, 90.0), 13: (99.0, 90.0), 14: (99.0, 18.0)}\n"
     ]
    },
    {
     "data": {
      "image/png": "[encoded data removed]",
      "text/plain": [
       "<Figure size 432x288 with 1 Axes>"
      ]
     },
     "metadata": {},
     "output_type": "display_data"
    }
   ],
   "source": [
    "pos = graphviz_layout(bintree.graph(), prog=\"dot\")\n",
    "#pos = {v.data: k for k,v in list(enumerate(bintree))}\n",
    "print(pos)\n",
    "nx.draw_networkx(bintree.graph(), pos)\n",
    "ax = plt.gca()\n",
    "ax.margins(.20)\n",
    "plt.show()"
   ]
  },
  {
   "cell_type": "code",
   "execution_count": 14,
   "id": "33906fff",
   "metadata": {},
   "outputs": [
    {
     "name": "stdout",
     "output_type": "stream",
     "text": [
      "12\n",
      "11\n",
      "13\n",
      "14\n"
     ]
    }
   ],
   "source": [
    "for x in bintree:\n",
    "  print(x.data)"
   ]
  },
  {
   "cell_type": "code",
   "execution_count": 15,
   "id": "07c9a17e",
   "metadata": {},
   "outputs": [
    {
     "name": "stdout",
     "output_type": "stream",
     "text": [
      "0 12\n",
      "1 11\n",
      "2 13\n",
      "3 14\n"
     ]
    }
   ],
   "source": [
    "for k,v in list(enumerate(bintree)):\n",
    "  print(k,v.data)"
   ]
  },
  {
   "cell_type": "code",
   "execution_count": null,
   "id": "7a15e007",
   "metadata": {},
   "outputs": [],
   "source": []
  },
  {
   "cell_type": "code",
   "execution_count": null,
   "id": "c64898b2",
   "metadata": {},
   "outputs": [],
   "source": []
  }
 ],
 "metadata": {
  "kernelspec": {
   "display_name": "Python 3 (ipykernel)",
   "language": "python",
   "name": "python3"
  },
  "language_info": {
   "codemirror_mode": {
    "name": "ipython",
    "version": 3
   },
   "file_extension": ".py",
   "mimetype": "text/x-python",
   "name": "python",
   "nbconvert_exporter": "python",
   "pygments_lexer": "ipython3",
   "version": "3.9.13"
  }
 },
 "nbformat": 4,
 "nbformat_minor": 5
}
