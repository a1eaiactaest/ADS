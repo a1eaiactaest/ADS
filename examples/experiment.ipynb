{
 "cells": [
  {
   "cell_type": "code",
   "execution_count": 1,
   "id": "5ca03b01",
   "metadata": {},
   "outputs": [
    {
     "data": {
      "text/plain": [
       "['/Users/prybiec/fun/ADS',\n",
       " '/Users/prybiec/fun/ADS/examples',\n",
       " '/opt/homebrew/Cellar/python@3.9/3.9.12/Frameworks/Python.framework/Versions/3.9/lib/python39.zip',\n",
       " '/opt/homebrew/Cellar/python@3.9/3.9.12/Frameworks/Python.framework/Versions/3.9/lib/python3.9',\n",
       " '/opt/homebrew/Cellar/python@3.9/3.9.12/Frameworks/Python.framework/Versions/3.9/lib/python3.9/lib-dynload',\n",
       " '',\n",
       " '/opt/homebrew/lib/python3.9/site-packages',\n",
       " '/opt/homebrew/lib/python3.9/site-packages/utils-0.0.0-py3.9.egg',\n",
       " '/Users/prybiec/fun/tinygrad',\n",
       " '/opt/homebrew/lib/python3.9/site-packages/IPython/extensions',\n",
       " '/Users/prybiec/.ipython']"
      ]
     },
     "execution_count": 1,
     "metadata": {},
     "output_type": "execute_result"
    }
   ],
   "source": [
    "import os\n",
    "import sys\n",
    "\n",
    "ads_path = '/'.join(os.getcwd().split('/')[:-1])\n",
    "sys.path.insert(0, ads_path)\n",
    "sys.path"
   ]
  },
  {
   "cell_type": "code",
   "execution_count": 2,
   "id": "1329f303",
   "metadata": {},
   "outputs": [],
   "source": [
    "from ads.trees import BinaryTree"
   ]
  },
  {
   "cell_type": "code",
   "execution_count": 13,
   "id": "9b28a2ad",
   "metadata": {},
   "outputs": [],
   "source": [
    "tree = BinaryTree(10)\n",
    "tree.insert(11)\n",
    "tree.insert(9)"
   ]
  },
  {
   "cell_type": "code",
   "execution_count": 14,
   "id": "58de08fb",
   "metadata": {},
   "outputs": [
    {
     "data": {
      "text/plain": [
       "Tree(data=10, right=Tree(data=11, right=None, left=None), left=Tree(data=9, right=None, left=None))"
      ]
     },
     "execution_count": 14,
     "metadata": {},
     "output_type": "execute_result"
    }
   ],
   "source": [
    "tree"
   ]
  },
  {
   "cell_type": "code",
   "execution_count": 7,
   "id": "29bd47b3",
   "metadata": {},
   "outputs": [
    {
     "name": "stdout",
     "output_type": "stream",
     "text": [
      "True\n",
      "True\n",
      "True\n"
     ]
    }
   ],
   "source": [
    "print(isinstance(tree, BinaryTree))\n",
    "print(isinstance(tree.data, int))\n",
    "print(isinstance(tree.left, BinaryTree))"
   ]
  },
  {
   "cell_type": "code",
   "execution_count": 8,
   "id": "613dc6e4",
   "metadata": {},
   "outputs": [
    {
     "data": {
      "text/plain": [
       "ads.trees.BinaryTree"
      ]
     },
     "execution_count": 8,
     "metadata": {},
     "output_type": "execute_result"
    }
   ],
   "source": [
    "type(tree)"
   ]
  },
  {
   "cell_type": "code",
   "execution_count": null,
   "id": "ccd7729e",
   "metadata": {},
   "outputs": [],
   "source": []
  }
 ],
 "metadata": {
  "kernelspec": {
   "display_name": "Python 3 (ipykernel)",
   "language": "python",
   "name": "python3"
  },
  "language_info": {
   "codemirror_mode": {
    "name": "ipython",
    "version": 3
   },
   "file_extension": ".py",
   "mimetype": "text/x-python",
   "name": "python",
   "nbconvert_exporter": "python",
   "pygments_lexer": "ipython3",
   "version": "3.9.12"
  }
 },
 "nbformat": 4,
 "nbformat_minor": 5
}
